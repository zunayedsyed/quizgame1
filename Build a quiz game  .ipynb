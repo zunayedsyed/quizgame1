{
 "cells": [
  {
   "cell_type": "code",
   "execution_count": 4,
   "metadata": {
    "scrolled": true
   },
   "outputs": [
    {
     "name": "stdout",
     "output_type": "stream",
     "text": [
      "name=pke\n",
      "ok pke lets start the game\n",
      "round=1\n",
      "2+2=?4\n",
      "correct\n",
      "round=2\n",
      "2*2=?4\n",
      "correct\n",
      "round=3\n",
      "4/2=?2\n",
      "correct\n",
      "round=4\n",
      "4-2=?2\n",
      "correct\n",
      "round=5\n",
      "Find the odd number from 1 to 4=?1,3\n",
      "correct\n"
     ]
    }
   ],
   "source": [
    "# introduce\n",
    "name=input(\"name=\")\n",
    "print(\"ok\",name,\"lets start the game\")\n",
    "# function\n",
    "def x():\n",
    "    print(\"round=1\")\n",
    "    x=input(\"2+2=?\")\n",
    "    x=int(x)\n",
    "    if x==4:\n",
    "        print(\"correct\")\n",
    "    else:\n",
    "        print(\"error\")\n",
    "\n",
    "def a():\n",
    "    print(\"round=2\")\n",
    "    a=input(\"2*2=?\")\n",
    "    a=int(a)\n",
    "    if a==4:\n",
    "        print(\"correct\")\n",
    "    else:\n",
    "        print(\"error\")\n",
    "def b():\n",
    "    print(\"round=3\")\n",
    "    b=input(\"4/2=?\")\n",
    "    b=int(b)\n",
    "    if b==2:\n",
    "        print(\"correct\")\n",
    "    else:\n",
    "        print(\"error\")        \n",
    "def c():\n",
    "    print(\"round=4\")\n",
    "    c=input(\"4-2=?\")\n",
    "    c=int(c)\n",
    "    if c==2:\n",
    "        print(\"correct\")\n",
    "    else:\n",
    "        print(\"error\")\n",
    "\n",
    "def d():\n",
    "    print(\"round=5\")\n",
    "    d=input(\"Find the odd number from 1 to 4=?\")\n",
    "    if d==\"1,3\":\n",
    "        print(\"correct\")\n",
    "    else:\n",
    "        print(\"error\")\n",
    "\n",
    "# function call\n",
    "x()\n",
    "a()\n",
    "b()\n",
    "c()\n",
    "d()   "
   ]
  },
  {
   "cell_type": "code",
   "execution_count": null,
   "metadata": {},
   "outputs": [],
   "source": []
  }
 ],
 "metadata": {
  "kernelspec": {
   "display_name": "Python 3",
   "language": "python",
   "name": "python3"
  },
  "language_info": {
   "codemirror_mode": {
    "name": "ipython",
    "version": 3
   },
   "file_extension": ".py",
   "mimetype": "text/x-python",
   "name": "python",
   "nbconvert_exporter": "python",
   "pygments_lexer": "ipython3",
   "version": "3.8.5"
  }
 },
 "nbformat": 4,
 "nbformat_minor": 4
}
